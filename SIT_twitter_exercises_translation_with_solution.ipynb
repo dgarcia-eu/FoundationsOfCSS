{
 "cells": [
  {
   "cell_type": "markdown",
   "metadata": {},
   "source": [
    "# Tasks\n",
    "\n",
    "1. Connecting to Twitter with the rtweet package\n",
    "2. Construct the timelines of Twitter users\n",
    "3. Visualize distributions and scatter plots\n",
    "4. Fit and visualize a regression model\n",
    "5. Bootstrapping"
   ]
  },
  {
   "cell_type": "markdown",
   "metadata": {},
   "source": [
    "### Install requirements. \n",
    "\n",
    "The following cell contains all the necessary dependencies needed for this task. If you run the cell everything will be installed.  \n",
    "* [`twarc`](https://twarc-project.readthedocs.io/en/latest/) is a Python library for collecting and archiving Twitter JSON data via the Twitter API. [Here](https://twarc-project.readthedocs.io/en/latest/api/client2/) is the documentation of `twarc`.\n",
    "* [`pandas`](https://pandas.pydata.org/docs/index.html) is a Python library for creating and working with tabular data. [Here](https://pandas.pydata.org/docs/reference/index.html) is the documentation of `pandas`.\n",
    "* [`numpy`](https://numpy.org/) is a Python library for mathematical functions. [Here](https://numpy.org/doc/stable/reference/index.html) is the documentation of `numpy`.\n",
    "* [`matplotlib`](https://matplotlib.org/) is a Python library for creating plots. [Here](https://matplotlib.org/stable/api/index.html) is the documentation of `matplotlib`.\n",
    "* [`sklearn`](https://scikit-learn.org/stable/) is a Python library with different machinelearning algorithms. [Here](https://scikit-learn.org/stable/modules/classes.html) is the documentation of `sklearn`."
   ]
  },
  {
   "cell_type": "code",
   "execution_count": null,
   "metadata": {},
   "outputs": [],
   "source": [
    "! pip install twarc\n",
    "! pip install pandas\n",
    "! pip install numpy\n",
    "! pip install matplotlib\n",
    "! pip install sklearn"
   ]
  },
  {
   "cell_type": "markdown",
   "metadata": {},
   "source": [
    "### Import requirements\n",
    "The cell below imports all necessary dependancies. Make sure they are installed (see cell above)."
   ]
  },
  {
   "cell_type": "code",
   "execution_count": 2,
   "metadata": {},
   "outputs": [],
   "source": [
    "import pandas as pd\n",
    "from twarc import Twarc2\n",
    "import matplotlib.pyplot as plt\n",
    "import numpy as np\n",
    "from sklearn.linear_model import LinearRegression"
   ]
  },
  {
   "cell_type": "markdown",
   "metadata": {},
   "source": [
    "# 1 Connecting to Twitter with `twarc`\n",
    "## 1.1 Getting ready with `twarc`\n",
    "First of all you need to create a `Twarc2` instance with your credentials. See TODO how to get your bearer token. After that you will be able to access the Twitter API with `twarc`."
   ]
  },
  {
   "cell_type": "code",
   "execution_count": 3,
   "metadata": {},
   "outputs": [],
   "source": [
    "bearer_token = \"AAAAAAAAAAAAAAAAAAAAAPPWewEAAAAAWhtrtsDWU2hOYamVZrlMtLPcjy4%3DBzK7L4QjYelD5qpHkMdPQfRjLynhTcTIbejkXRuAzpI58RZRXa\" # replace the XXX with your bearer token\n",
    "twarc_client = Twarc2(bearer_token=bearer_token)"
   ]
  },
  {
   "cell_type": "markdown",
   "metadata": {},
   "source": [
    " Now lets use the twitter API. For example, we can get basic information on the Twitter account of the New York Times:"
   ]
  },
  {
   "cell_type": "code",
   "execution_count": 4,
   "metadata": {},
   "outputs": [
    {
     "name": "stdout",
     "output_type": "stream",
     "text": [
      "Pretty printing has been turned OFF\n"
     ]
    }
   ],
   "source": [
    "pprint(next(twarc_client.user_lookup([\"nytimes\"], usernames=True)))"
   ]
  },
  {
   "cell_type": "markdown",
   "metadata": {},
   "source": [
    "This returns a `dictionary` with two keys. One is the `__twarc` key where the value is some information about the `twarc` call. The second and more important key is the `data` key. The value here is a list of dictionaries, where each dictionary contains the data for one user. This contains for example, the username, the id, location and other information, just look through the dictionary."
   ]
  },
  {
   "cell_type": "markdown",
   "metadata": {},
   "source": [
    "# 2 Construct the timelines of Twitter users\n",
    "\n",
    "## 2.1 Getting a list of users\n",
    "In this Task choose a list with a few hundred Twitter users, [here](https://docs.google.com/spreadsheets/d/1tcNy1q_eQH3HXGt-0hkmSNEGbcOUiC5si3kZ6-F0pB8/) you can find some example ids of such lists.  \n",
    "Retrive all user informations of every user in the list and save them in a pandas Dataframe. The method [`list_members`](https://twarc-project.readthedocs.io/en/latest/api/client2/#twarc.client2.Twarc2.list_members) of `twarc` will help you here.  \n",
    "Pandas method [`json_normalize`](https://pandas.pydata.org/docs/reference/api/pandas.json_normalize.html) will help you to save the json results from twarc in a flat table."
   ]
  },
  {
   "cell_type": "code",
   "execution_count": 5,
   "metadata": {},
   "outputs": [],
   "source": [
    "# Your code goes here!\n",
    "users = []\n",
    "for user in twarc_client.list_members(list_id = 34179516):\n",
    "    users.append(user)\n",
    "users = pd.json_normalize(users, record_path=['data'])"
   ]
  },
  {
   "cell_type": "markdown",
   "metadata": {},
   "source": [
    "From those users we are interested on those who have written at least 100 tweets and that have at least 100 followers. From the remaining set sample 100 at random. Check out pandas conditional indexing [here](https://pandas.pydata.org/pandas-docs/dev/user_guide/indexing.html#boolean-indexing). To randomly get 100 users you can use pandas [`sample`](https://pandas.pydata.org/docs/reference/api/pandas.DataFrame.sample.html) method."
   ]
  },
  {
   "cell_type": "code",
   "execution_count": 6,
   "metadata": {},
   "outputs": [],
   "source": [
    "users = users[(users['public_metrics.tweet_count'] >= 100) & (users['public_metrics.followers_count'] >= 100)].sample(100)"
   ]
  },
  {
   "cell_type": "markdown",
   "metadata": {},
   "source": [
    "## 2.2 Downloading timelines\n",
    "Next we want to get the timeline of the users, more specific we want to get the last 200 tweets of each user and the information about the tweets. For this you can use `twarc`'s [`timeline`](https://twarc-project.readthedocs.io/en/latest/api/client2/#twarc.client2.Twarc2.timeline) method. This returns a generator where each element contains all the tweets on one page. The twitter API contains a maximum of 100 tweets per page, since we want to extract the last 200 tweets we need to extract the tweets from the first and second page (or the first and second element in the timeline generator).  \n",
    "For this iterate over all users and then call the `timeline` method (make sure you set `max_results` to 100). Now you can use pythons [`next`](https://docs.python.org/3/library/functions.html#next) function to get the next element in the iterator. To get the first two you just have to call `next` two times.   \n",
    "\n",
    "Save the timeline in a pandas dataframe. Again you should use `json_normalize`to flatten the data."
   ]
  },
  {
   "cell_type": "code",
   "execution_count": 7,
   "metadata": {},
   "outputs": [
    {
     "name": "stderr",
     "output_type": "stream",
     "text": [
      "100%|██████████| 100/100 [04:01<00:00,  2.41s/it]\n"
     ]
    }
   ],
   "source": [
    "# Your code goes here!\n",
    "import tqdm\n",
    "timeline = []\n",
    "# iterate with tqdm to show progress\n",
    "for userID in tqdm.tqdm(users.id.values):\n",
    "    data = twarc_client.timeline(user=userID, max_results=100) # only 100 tweets per page so calling two times the next element (page) of the iterator to get 200 tweets\n",
    "    timeline.append(next(data))\n",
    "    timeline.append(next(data))\n",
    "timeline = pd.json_normalize(timeline, record_path=['data'])\n",
    "timeline.to_csv(\"timeline.csv\")\n"
   ]
  },
  {
   "cell_type": "markdown",
   "metadata": {},
   "source": [
    "## 2.3 Aggregating and arranging data\n",
    "With the timeline retrived we want to calculate some metrics from the tweets, especcially the mean retweet count, which is also often refered as the social impact. For this you can use pandas [`groupby`](https://pandas.pydata.org/docs/reference/api/pandas.DataFrame.groupby.html) method. Group the data by the `author_id` and calculate the mean of the retweet count of each user."
   ]
  },
  {
   "cell_type": "code",
   "execution_count": 8,
   "metadata": {},
   "outputs": [],
   "source": [
    "# Your code goes here!\n",
    "timeline_retweet_mean = timeline.groupby(\"author_id\", as_index=False)[\"public_metrics.retweet_count\"].mean()"
   ]
  },
  {
   "cell_type": "markdown",
   "metadata": {},
   "source": [
    "https://pandas.pydata.org/docs/reference/api/pandas.DataFrame.merge.html\n",
    "Next we want to merge the users data with the newly created mean retweet informations. For this you have to merge the users dataframe with the just created dataframe with the retweet mean of each user. Use pandas [`merge`](timeline_reetweet_mean) method.    \n",
    "\n",
    "Afterwards remove all unused columns, at the end the dataframe should contain the author ID, name, the follower count and the mean retweet count. \n",
    "\n",
    "Attention: The user id in the timeline dataframe (and later on the retweet mean dataframe) are in column `author_id` and the user id on the user dataframe (created with `list_members`) are in column `id`. You can use the keyword arguments `left_on` and `right_on` to merge the two dataframes by the different user id columns."
   ]
  },
  {
   "cell_type": "code",
   "execution_count": 9,
   "metadata": {},
   "outputs": [],
   "source": [
    "# Your code goes here!\n",
    "follower_social_impact_data = users.merge(timeline_retweet_mean, left_on=\"id\", right_on=\"author_id\")\n",
    "follower_social_impact_data = follower_social_impact_data[[\"author_id\", \"name\", \"public_metrics.followers_count\", \"public_metrics.retweet_count\"]]"
   ]
  },
  {
   "cell_type": "markdown",
   "metadata": {},
   "source": [
    "# 3 Visualize distributions and scatter plots\n",
    "\n",
    "## 3.1 Distribution of the number of followers\n",
    "Plot the histogram of the number of followers of each users in your dataset. Repeat this with a logarithmic `y` scale. Which one is more skewed?  \n",
    "\n",
    "You can use pandas [`hist`](https://pandas.pydata.org/docs/reference/api/pandas.DataFrame.hist.html) method with the keyword argumnet `log` for logarithmic scale, or you can use matplotlibs [`hist`](https://matplotlib.org/stable/api/_as_gen/matplotlib.pyplot.hist.html) method (don't forget to first create a figure), again with the keyword argument `log` to plot the data."
   ]
  },
  {
   "cell_type": "code",
   "execution_count": 10,
   "metadata": {},
   "outputs": [
    {
     "name": "stderr",
     "output_type": "stream",
     "text": [
      "C:\\Users\\morit\\AppData\\Local\\Temp/ipykernel_15884/1589118032.py:18: UserWarning: Matplotlib is currently using module://matplotlib_inline.backend_inline, which is a non-GUI backend, so cannot show the figure.\n",
      "  fig.show()\n"
     ]
    },
    {
     "data": {
      "image/png": "[encoded data removed]",
      "text/plain": [
       "<Figure size 720x720 with 2 Axes>"
      ]
     },
     "metadata": {
      "needs_background": "light"
     },
     "output_type": "display_data"
    }
   ],
   "source": [
    "# Your code goes here!\n",
    "\n",
    "# version with pandas\n",
    "# # create histogram of follwers count\n",
    "# follower_social_impact_data.hist(column=\"public_metrics.followers_count\", bins=100)\n",
    "# # version with log scale\n",
    "# follower_social_impact_data.hist(column=\"public_metrics.followers_count\", bins=100, log=True)\n",
    "\n",
    "# version with matplotlib\n",
    "fig, axes = plt.subplots(2, 1,  figsize=(10,10))\n",
    "axes[0].hist(follower_social_impact_data[\"public_metrics.followers_count\"], bins=100)\n",
    "axes[0].set_title(\"Followers Count\")\n",
    "axes[0].set_ylabel(\"Followers Count\")\n",
    "# add log scale\n",
    "axes[1].hist(follower_social_impact_data[\"public_metrics.followers_count\"], bins=100, log=True)\n",
    "axes[1].set_title(\"Followers Count Logarithmic\")\n",
    "axes[1].set_ylabel(\"Followers Count Logarithmic\")\n",
    "fig.show()"
   ]
  },
  {
   "cell_type": "markdown",
   "metadata": {},
   "source": [
    "## 3.2 Distribution of social impact\n",
    "\n",
    "Repeat the above task but for the social impact of your users, also look at the logarithmic scale. Again, which one is more skewed?"
   ]
  },
  {
   "cell_type": "code",
   "execution_count": 11,
   "metadata": {},
   "outputs": [
    {
     "name": "stderr",
     "output_type": "stream",
     "text": [
      "C:\\Users\\morit\\AppData\\Local\\Temp/ipykernel_15884/977635605.py:18: UserWarning: Matplotlib is currently using module://matplotlib_inline.backend_inline, which is a non-GUI backend, so cannot show the figure.\n",
      "  fig.show()\n"
     ]
    },
    {
     "data": {
      "image/png": "[encoded data removed]",
      "text/plain": [
       "<Figure size 720x720 with 2 Axes>"
      ]
     },
     "metadata": {
      "needs_background": "light"
     },
     "output_type": "display_data"
    }
   ],
   "source": [
    "# Your code goes here!\n",
    "\n",
    "# version with pandas\n",
    "# # create histogram of follwers count\n",
    "# follower_social_impact_data.hist(column=\"public_metrics.retweet_count\", bins=100)\n",
    "# # version with log scale\n",
    "# follower_social_impact_data.hist(column=\"public_metrics.retweet_count\", bins=100, log=True)\n",
    "\n",
    "# version with matplotlib\n",
    "fig, axes = plt.subplots(2, 1,  figsize=(10,10))\n",
    "axes[0].hist(follower_social_impact_data[\"public_metrics.retweet_count\"], bins=100)\n",
    "axes[0].set_title(\"Social Impact\")\n",
    "axes[0].set_ylabel(\"Social Impact\")\n",
    "# add log scale\n",
    "axes[1].hist(follower_social_impact_data[\"public_metrics.retweet_count\"], bins=100, log=True)\n",
    "axes[1].set_title(\"Social Impact Logarithmic\")\n",
    "axes[1].set_ylabel(\"Social Impact Logarithmic\")\n",
    "fig.show()"
   ]
  },
  {
   "cell_type": "markdown",
   "metadata": {},
   "source": [
    "## 3.3 Number of followers vs social impact\n",
    "Create a scatter plot with the number of followers of each user on the x axis and the social impact of each user on the y axis. Both axis should be in logarithmic scale. Is there a relationship?  \n",
    "\n",
    "Again you can use pandas [`scatter`](https://pandas.pydata.org/docs/reference/api/pandas.DataFrame.plot.scatter.html) method with `logx` and `logy` set to true or you can use matplotlibs [`scatter`](https://matplotlib.org/stable/api/_as_gen/matplotlib.pyplot.scatter.html) method. Here you can use the `set_yscale` and `set_xscale` method of the axis to set them to `'log'`."
   ]
  },
  {
   "cell_type": "code",
   "execution_count": 12,
   "metadata": {},
   "outputs": [
    {
     "name": "stderr",
     "output_type": "stream",
     "text": [
      "C:\\Users\\morit\\AppData\\Local\\Temp/ipykernel_15884/80695605.py:14: UserWarning: Matplotlib is currently using module://matplotlib_inline.backend_inline, which is a non-GUI backend, so cannot show the figure.\n",
      "  fig.show()\n"
     ]
    },
    {
     "data": {
      "image/png": "[encoded data removed]",
      "text/plain": [
       "<Figure size 504x504 with 1 Axes>"
      ]
     },
     "metadata": {
      "needs_background": "light"
     },
     "output_type": "display_data"
    }
   ],
   "source": [
    "# Your code goes here!\n",
    "\n",
    "# version with pandas\n",
    "# follower_social_impact_data.plot.scatter(x=\"public_metrics.followers_count\", y=\"public_metrics.retweet_count\", logx=True, logy=True)\n",
    "\n",
    "# version with matplotlib\n",
    "fig, ax = plt.subplots(1, 1,  figsize=(7,7))\n",
    "ax.scatter(follower_social_impact_data[\"public_metrics.followers_count\"], follower_social_impact_data[\"public_metrics.retweet_count\"], s=10)\n",
    "ax.set_title(\"Followers Count vs Social Impact\")\n",
    "ax.set_xlabel(\"Followers Count Logarithmic\")\n",
    "ax.set_ylabel(\"Social Impact Logarithmic\")\n",
    "ax.set_yscale('log')\n",
    "ax.set_xscale('log')\n",
    "fig.show()"
   ]
  },
  {
   "cell_type": "markdown",
   "metadata": {},
   "source": [
    "# 4. Fit and visualize a regression model\n",
    "\n",
    "## 4.1 Fit a linear model\n",
    "\n",
    "First of all make two new columns on the data frame with the social impact and the follower count. One called `SI` with the logarithm of the amount of retweets, and another called `FC` with the logarithm of the amount of followers. For this you can use numpys log function `np.log(...)`.  \n",
    "\n",
    "Now fit a linear regression model with sklearn. For this use the class [`LinearRegression`](https://scikit-learn.org/stable/modules/generated/sklearn.linear_model.LinearRegression.html) to create a linear regression instance and then call the `fit` method. `SI` is used as the dependent variable (target) and `FC` as the independent variable (features).  \n",
    "\n",
    "Print the model intercept and coefficient. For this you can use the models attributes `coef_` and `intercept_`."
   ]
  },
  {
   "cell_type": "code",
   "execution_count": 13,
   "metadata": {},
   "outputs": [],
   "source": [
    "# Your code goes here!\n",
    "# add logarithmic values of retweet count to the dataframe\n",
    "follower_social_impact_data[\"SI\"] = follower_social_impact_data[\"public_metrics.retweet_count\"].apply(lambda x: np.log(x))\n",
    "follower_social_impact_data[\"FC\"] = follower_social_impact_data[\"public_metrics.followers_count\"].apply(lambda x: np.log(x))"
   ]
  },
  {
   "cell_type": "code",
   "execution_count": 14,
   "metadata": {},
   "outputs": [
    {
     "name": "stdout",
     "output_type": "stream",
     "text": [
      "[0.33914304] 0.31897341874184715\n"
     ]
    }
   ],
   "source": [
    "# Your code goes here!\n",
    "# create a linear regression model from the dataframe with SI as the dependent variable and FC as the independent variable\n",
    "model = LinearRegression().fit(follower_social_impact_data[[\"FC\"]], follower_social_impact_data[\"SI\"])\n",
    "print(model.coef_, model.intercept_)"
   ]
  },
  {
   "cell_type": "markdown",
   "metadata": {},
   "source": [
    "## 4.2 Plot the results\n",
    "Now plot the same scatter plot as in 3.3 additional add a line plot which shows the regression line of the model. For this use the intercept and the coefficient (slope). Does the line fit the data as you expected?  \n",
    "\n",
    "It is easier to use matplotlib here to add the line plot to the scatter plot. For the line plot you can use matplotlibs [`plot`](https://matplotlib.org/stable/api/_as_gen/matplotlib.pyplot.plot.html) method. For the x values you can use numpy's [`np.linspace`](https://numpy.org/doc/stable/reference/generated/numpy.linspace.html#numpy.linspace) method to evenly space x values in a certain range. The y values can be calculated with the intercept and the slope as follows:  \n",
    "$\n",
    "\\begin{align}\n",
    "    y = slope \\cdot x + intercept\n",
    "\\end{align}\n",
    "$"
   ]
  },
  {
   "cell_type": "code",
   "execution_count": 15,
   "metadata": {},
   "outputs": [
    {
     "name": "stderr",
     "output_type": "stream",
     "text": [
      "C:\\Users\\morit\\AppData\\Local\\Temp/ipykernel_15884/2104782362.py:15: UserWarning: Matplotlib is currently using module://matplotlib_inline.backend_inline, which is a non-GUI backend, so cannot show the figure.\n",
      "  fig.show()\n"
     ]
    },
    {
     "data": {
      "image/png": "[encoded data removed]",
      "text/plain": [
       "<Figure size 504x504 with 1 Axes>"
      ]
     },
     "metadata": {
      "needs_background": "light"
     },
     "output_type": "display_data"
    }
   ],
   "source": [
    "# Your code goes here!\n",
    "# scatter plot from before add the linear regression line\n",
    "fig, ax = plt.subplots(1, 1,  figsize=(7,7))\n",
    "ax.scatter(follower_social_impact_data[\"FC\"], follower_social_impact_data[\"SI\"], s=10)\n",
    "ax.set_title(\"Followers Count vs Social Impact\")\n",
    "ax.set_xlabel(\"Followers Count Logarithmic\")\n",
    "ax.set_ylabel(\"Social Impact Logarithmic\")\n",
    "# add the linear regression line\n",
    "x_min = follower_social_impact_data[\"FC\"].min()\n",
    "x_max = follower_social_impact_data[\"FC\"].max()\n",
    "# version with predict:\n",
    "# ax.plot(np.linspace(x_min, x_max, 100), model.predict(np.linspace(x_min, x_max, 100).reshape(-1, 1)), color=\"red\")\n",
    "# version with intercept and coef:\n",
    "ax.plot(np.linspace(x_min, x_max, 100), model.intercept_ + model.coef_ * np.linspace(x_min, x_max, 100), color=\"red\")\n",
    "fig.show()\n"
   ]
  },
  {
   "cell_type": "markdown",
   "metadata": {},
   "source": [
    "## 4.3 Calculate quality of the fit\n",
    "Calculate the residuals of the model and save them in a vector. This can be done with following formula:\n",
    "$\n",
    "\\begin{align}\n",
    "residual = y_{true} - y_{pred}\n",
    "\\end{align}\n",
    "$\n",
    "where $y_{true}$ are the true values of the dependent variable (in our case `SI`) and $y_{pred}$ are the predicted values with the model. To get the predicted values of the model you can use the [`predict`](https://scikit-learn.org/stable/modules/generated/sklearn.linear_model.LinearRegression.html) method of the model.  \n",
    "\n",
    "Afterwards calculate the variance of the residuals and the variance of the social impact variable. For this you can use numpy's [`var`](https://numpy.org/doc/stable/reference/generated/numpy.var.html) function. Is the variance of the residuals lower than the variance of the dependent variable? By how much in proportion?"
   ]
  },
  {
   "cell_type": "code",
   "execution_count": 16,
   "metadata": {},
   "outputs": [
    {
     "name": "stdout",
     "output_type": "stream",
     "text": [
      "2.140787716706327\n",
      "2.3431785081495757\n",
      "0.08637446559847373\n"
     ]
    }
   ],
   "source": [
    "# Your code goes here!\n",
    "prediction = model.predict(follower_social_impact_data[[\"FC\"]])\n",
    "residual = (follower_social_impact_data[\"SI\"] - prediction)\n",
    "print(np.var(residual))\n",
    "print(np.var(follower_social_impact_data[\"SI\"]))\n",
    "print(1 - np.var(residual) / np.var(follower_social_impact_data[\"SI\"]))"
   ]
  },
  {
   "cell_type": "markdown",
   "metadata": {},
   "source": [
    "## 4.4 Distribution of residuals\n",
    "Plot the histogram of residuals. Do they look normally distributted?  \n",
    "\n",
    "Again you can use matplotlib as before to plot the histogram."
   ]
  },
  {
   "cell_type": "code",
   "execution_count": 17,
   "metadata": {},
   "outputs": [
    {
     "name": "stderr",
     "output_type": "stream",
     "text": [
      "C:\\Users\\morit\\AppData\\Local\\Temp/ipykernel_15884/3814693374.py:7: UserWarning: Matplotlib is currently using module://matplotlib_inline.backend_inline, which is a non-GUI backend, so cannot show the figure.\n",
      "  fig.show()\n"
     ]
    },
    {
     "data": {
      "image/png": "[encoded data removed]",
      "text/plain": [
       "<Figure size 360x360 with 1 Axes>"
      ]
     },
     "metadata": {
      "needs_background": "light"
     },
     "output_type": "display_data"
    }
   ],
   "source": [
    "# Your code goes here!\n",
    "# plot histogram of residuals\n",
    "fig, ax = plt.subplots(1, 1,  figsize=(5,5))\n",
    "ax.hist(residual, bins=20)\n",
    "ax.set_title(\"Distribution of Residuals\")\n",
    "ax.set_ylabel(\"Residuals\")\n",
    "fig.show()"
   ]
  },
  {
   "cell_type": "markdown",
   "metadata": {},
   "source": [
    "# 5. Bootstrapping\n",
    "\n",
    "## 5.1 One sample\n",
    "For bootsrapping we first look at creating one sample. For this use the follower and social impact dataframe from before and sample random rows with replacement. This again can be done with pandas [`sample`](https://pandas.pydata.org/docs/reference/api/pandas.DataFrame.sample.html) method and the keyword argument `replace` set to `True`.  \n",
    "\n",
    "Fit a new linear regression model with this new dataset. What is the value of the coefficient and the intercept now?"
   ]
  },
  {
   "cell_type": "code",
   "execution_count": 18,
   "metadata": {},
   "outputs": [
    {
     "name": "stdout",
     "output_type": "stream",
     "text": [
      "[0.39661643] -0.032143242099636815\n"
     ]
    }
   ],
   "source": [
    "# Your code goes here!\n",
    "sampled_users = follower_social_impact_data.sample(100, replace=True)\n",
    "single_sample_bs_model = LinearRegression()\n",
    "single_sample_bs_model.fit(sampled_users[[\"FC\"]], sampled_users[\"SI\"])\n",
    "print(single_sample_bs_model.coef_, single_sample_bs_model.intercept_)"
   ]
  },
  {
   "cell_type": "markdown",
   "metadata": {},
   "source": [
    "## 5.2 Many bootstrap samples\n",
    "Now repeat this 10000 times, save the resulting coefficient in a vector."
   ]
  },
  {
   "cell_type": "code",
   "execution_count": 19,
   "metadata": {},
   "outputs": [],
   "source": [
    "# Your code goes here!\n",
    "multi_sample_bs_model_coef = []\n",
    "for i in range(10000):\n",
    "    boot = follower_social_impact_data.sample(100, replace=True)\n",
    "    multi_sample_bs_model = LinearRegression()\n",
    "    multi_sample_bs_model.fit(boot[[\"FC\"]], boot[\"SI\"])\n",
    "    multi_sample_bs_model_coef.append(multi_sample_bs_model.coef_)\n",
    "multi_sample_bs_model_coef = np.array(multi_sample_bs_model_coef)"
   ]
  },
  {
   "cell_type": "markdown",
   "metadata": {},
   "source": [
    "## 5.3 Bootstrap histogram\n",
    "\n",
    "Plot a histogram of the values resulting from the permutations and add a vertical line on the value of the coefficient of the original model (from task 4.1). For adding a vertical line to the histogram in matplotlib you can use the [`axvline`](https://matplotlib.org/stable/api/_as_gen/matplotlib.pyplot.axvline.html) method.  \n",
    "\n",
    " How far is the line from the center of the histogram?"
   ]
  },
  {
   "cell_type": "code",
   "execution_count": 20,
   "metadata": {},
   "outputs": [
    {
     "name": "stderr",
     "output_type": "stream",
     "text": [
      "C:\\Users\\morit\\AppData\\Local\\Temp/ipykernel_15884/3857470839.py:9: UserWarning: Matplotlib is currently using module://matplotlib_inline.backend_inline, which is a non-GUI backend, so cannot show the figure.\n",
      "  fig.show()\n"
     ]
    },
    {
     "data": {
      "image/png": "[encoded data removed]",
      "text/plain": [
       "<Figure size 360x360 with 1 Axes>"
      ]
     },
     "metadata": {
      "needs_background": "light"
     },
     "output_type": "display_data"
    }
   ],
   "source": [
    "# Your code goes here!\n",
    "# plot histogram of bootstrap coefficients\n",
    "fig, ax = plt.subplots(1, 1,  figsize=(5,5))\n",
    "ax.hist(multi_sample_bs_model_coef, bins=100)\n",
    "ax.set_title(\"Distribution of Bootstrap Coefficients\")\n",
    "ax.set_ylabel(\"Bootstrap Coefficients\")\n",
    "# add vertical at original model coef\n",
    "ax.axvline(model.coef_, color=\"red\")\n",
    "fig.show()"
   ]
  }
 ],
 "metadata": {
  "kernelspec": {
   "display_name": "Python 3.10.4 64-bit",
   "language": "python",
   "name": "python3"
  },
  "language_info": {
   "codemirror_mode": {
    "name": "ipython",
    "version": 3
   },
   "file_extension": ".py",
   "mimetype": "text/x-python",
   "name": "python",
   "nbconvert_exporter": "python",
   "pygments_lexer": "ipython3",
   "version": "3.10.4"
  },
  "orig_nbformat": 4,
  "vscode": {
   "interpreter": {
    "hash": "46e2835a142a16ae115bce5fddf19f27ce13b17a4ab8ded638c88ab5ce5171d2"
   }
  }
 },
 "nbformat": 4,
 "nbformat_minor": 2
}
